{
 "cells": [
  {
   "cell_type": "markdown",
   "metadata": {},
   "source": [
    "## Using Triggers to Update Views Exercise for Stanford DB "
   ]
  },
  {
   "cell_type": "markdown",
   "metadata": {},
   "source": [
    "#### Q1 Write an instead-of trigger that enables updates to the title attribute of view LateRating."
   ]
  },
  {
   "cell_type": "markdown",
   "metadata": {},
   "source": [
    "##### Policy: \n",
    "Updates to attribute title in LateRating should update Movie.title for the corresponding movie. (You may assume attribute mID is a key for table Movie.) Make sure the mID attribute of view LateRating has not also been updated - if it has been updated, don't make any changes. Don't worry about updates to stars or ratingDate."
   ]
  },
  {
   "cell_type": "code",
   "execution_count": 1,
   "metadata": {},
    }
   ],
   "source": [
    "CREATE TRIGGER uLateRating   \n",
    "INSTEAD OF UPDATE OF title ON LateRating  \n",
    "BEGIN  \n",
    "    UPDATE Movie\n",
    "    SET title = new.title\n",
    "    WHERE mID = new.mID;\n",
    "END"
   ]
  },
  {
   "cell_type": "markdown",
   "metadata": {},
   "source": [
    "#### Q2 Write an instead-of trigger that enables updates to the stars attribute of view LateRating."
   ]
  },
  {
   "cell_type": "markdown",
   "metadata": {},
   "source": [
    "##### Policy: \n",
    "Updates to attribute stars in LateRating should update Rating.stars for the corresponding movie rating. (You may assume attributes [mID,ratingDate] together are a key for table Rating.) Make sure the mID and ratingDate attributes of view LateRating have not also been updated -- if either one has been updated, don't make any changes. Don't worry about updates to title."
   ]
  },
  {
   "cell_type": "code",
   "execution_count": null,
   "metadata": {},
   "outputs": [],
   "source": [
    "CREATE TRIGGER uStarsLateRating\n",
    "INSTEAD OF UPDATE OF stars ON LateRating\n",
    "BEGIN\n",
    "    UPDATE Rating\n",
    "    SET stars = new.stars\n",
    "    WHERE mID = new.mID\n",
    "    AND ratingDate = new.ratingDate;\n",
    "END"
   ]
  },
  {
   "cell_type": "markdown",
   "metadata": {},
   "source": [
    "#### Q3 Write an instead-of trigger that enables updates to the mID attribute of view LateRating."
   ]
  },
  {
   "cell_type": "markdown",
   "metadata": {},
   "source": [
    "##### Policy: \n",
    "Updates to attribute mID in LateRating should update Movie.mID and Rating.mID for the corresponding movie. Update all Rating tuples with the old mID, not just the ones contributing to the view. Don't worry about updates to title, stars, or ratingDate."
   ]
  },
  {
   "cell_type": "code",
   "execution_count": null,
   "metadata": {},
   "outputs": [],
   "source": [
    "CREATE TRIGGER mIDLateRating\n",
    "INSTEAD OF UPDATE OF mID ON LateRating\n",
    "BEGIN\n",
    "    UPDATE Movie\n",
    "    SET mID = new.mID\n",
    "    WHERE mID = old.mID;\n",
    "\n",
    "    UPDATE Rating\n",
    "    SET mID = new.mID\n",
    "    WHERE mID = old.mID;\n",
    "END"
   ]
  },
  {
   "cell_type": "markdown",
   "metadata": {},
   "source": [
    "#### Q4 Finally, write a single instead-of trigger that combines all three of the previous triggers to enable simultaneous updates to attributes mID, title, and/or stars in view LateRating. Combine the view-update policies of the three previous problems, with the exception that mID may now be updated. Make sure the ratingDate attribute of view LateRating has not also been updated -- if it has been updated, don't make any changes."
   ]
  },
  {
   "cell_type": "code",
   "execution_count": 2,
   "metadata": {},
   "outputs": [
    {
     "ename": "SyntaxError",
     "evalue": "invalid syntax (<ipython-input-2-512716f67c0e>, line 1)",
     "output_type": "error",
     "traceback": [
      "\u001b[0;36m  File \u001b[0;32m\"<ipython-input-2-512716f67c0e>\"\u001b[0;36m, line \u001b[0;32m1\u001b[0m\n\u001b[0;31m    CREATE TRIGGER allLateRating\u001b[0m\n\u001b[0m                 ^\u001b[0m\n\u001b[0;31mSyntaxError\u001b[0m\u001b[0;31m:\u001b[0m invalid syntax\n"
     ]
    }
   ],
   "source": [
    "CREATE TRIGGER allLateRating\n",
    "INSTEAD OF UPDATE ON LateRating\n",
    "WHEN new.ratingDate = old.ratingDate\n",
    "BEGIN  \n",
    "    UPDATE Rating\n",
    "    SET mID = new.mID\n",
    "    WHERE mID = old.mID;\n",
    "    \n",
    "    UPDATE Movie\n",
    "    SET mID = new.mID\n",
    "    WHERE mID = old.mID;\n",
    "    \n",
    "    UPDATE Rating\n",
    "    SET stars = new.stars\n",
    "    WHERE ratingDate = new.ratingDate\n",
    "    AND mID = new.mID;  \n",
    "    \n",
    "    UPDATE Movie\n",
    "    SET title = new.title\n",
    "    WHERE mID = new.mID;\n",
    "END"
   ]
  },
  {
   "cell_type": "markdown",
   "metadata": {},
   "source": [
    "#### Q5 Write an instead-of trigger that enables deletions from view HighlyRated."
   ]
  },
  {
   "cell_type": "markdown",
   "metadata": {},
   "source": [
    "##### Policy: \n",
    "Deletions from view HighlyRated should delete all ratings for the corresponding movie that have stars > 3."
   ]
  },
  {
   "cell_type": "code",
   "execution_count": null,
   "metadata": {},
   "outputs": [],
   "source": [
    "CREATE TRIGGER delHighlyRated\n",
    "INSTEAD OF DELETE ON HighlyRated\n",
    "BEGIN\n",
    "    DELETE FROM Rating\n",
    "    WHERE mID = old.mID\n",
    "    AND stars > 3;\n",
    "END"
   ]
  },
  {
   "cell_type": "markdown",
   "metadata": {},
   "source": [
    "#### Q6 Write an instead-of trigger that enables deletions from view HighlyRated."
   ]
  },
  {
   "cell_type": "markdown",
   "metadata": {},
   "source": [
    "##### Policy: \n",
    "Deletions from view HighlyRated should update all ratings for the corresponding movie that have stars > 3 so they have stars = 3."
   ]
  },
  {
   "cell_type": "code",
   "execution_count": null,
   "metadata": {},
   "outputs": [],
   "source": [
    "CREATE TRIGGER altHighlyRated\n",
    "INSTEAD OF DELETE ON HighlyRated\n",
    "BEGIN\n",
    "    UPDATE Rating\n",
    "    SET stars = 3\n",
    "    WHERE mID = old.mID\n",
    "    AND stars > 3;\n",
    "END"
   ]
  },
  {
   "cell_type": "markdown",
   "metadata": {},
   "source": [
    "#### Q7 Write an instead-of trigger that enables insertions into view HighlyRated."
   ]
  },
  {
   "cell_type": "markdown",
   "metadata": {},
   "source": [
    "##### Policy: \n",
    "An insertion should be accepted only when the (mID,title) pair already exists in the Movie table. (Otherwise, do nothing.) Insertions into view HighlyRated should add a new rating for the inserted movie with rID = 201, stars = 5, and NULL ratingDate."
   ]
  },
  {
   "cell_type": "code",
   "execution_count": null,
   "metadata": {},
   "outputs": [],
   "source": [
    "CREATE TRIGGER insHighlyRated\n",
    "INSTEAD OF INSERT ON HighlyRated\n",
    "WHEN (SELECT count(*) FROM Movie m \n",
    "        WHERE m.mID = new.mID\n",
    "        AND m.title = new.title) > 0\n",
    "BEGIN\n",
    "    INSERT INTO Rating\n",
    "    VALUES (201, new.mID, 5, NULL);\n",
    "END"
   ]
  },
  {
   "cell_type": "markdown",
   "metadata": {},
   "source": [
    "#### Q8 Write an instead-of trigger that enables insertions into view NoRating."
   ]
  },
  {
   "cell_type": "markdown",
   "metadata": {},
   "source": [
    "#### Policy: \n",
    "An insertion should be accepted only when the (mID,title) pair already exists in the Movie table. (Otherwise, do nothing.) Insertions into view NoRating should delete all ratings for the corresponding movie."
   ]
  },
  {
   "cell_type": "code",
   "execution_count": null,
   "metadata": {},
   "outputs": [],
   "source": [
    "CREATE TRIGGER delNoRating\n",
    "INSTEAD OF INSERT ON NoRating\n",
    "WHEN (SELECT COUNT(*) \n",
    "        FROM Movie m \n",
    "        WHERE m.mID = new.mID \n",
    "        AND m.title = new.title) > 0 \n",
    "BEGIN\n",
    "    DELETE FROM Rating\n",
    "    WHERE mID = new.mID;\n",
    "END"
   ]
  },
  {
   "cell_type": "markdown",
   "metadata": {},
   "source": [
    "#### Q9 Write an instead-of trigger that enables deletions from view NoRating."
   ]
  },
  {
   "cell_type": "markdown",
   "metadata": {},
   "source": [
    "#### Policy: \n",
    "Deletions from view NoRating should delete the corresponding movie from the Movie table."
   ]
  },
  {
   "cell_type": "code",
   "execution_count": null,
   "metadata": {},
   "outputs": [],
   "source": [
    "CREATE TRIGGER delNoRating\n",
    "INSTEAD OF DELETE ON NoRating\n",
    "BEGIN\n",
    "    DELETE FROM Movie\n",
    "    WHERE mID = old.mID;\n",
    "END"
   ]
  },
  {
   "cell_type": "markdown",
   "metadata": {},
   "source": [
    "#### Q10 Write an instead-of trigger that enables deletions from view NoRating."
   ]
  },
  {
   "cell_type": "markdown",
   "metadata": {},
   "source": [
    "##### Policy: \n",
    "Deletions from view NoRating should add a new rating for the deleted movie with rID = 201, stars = 1, and NULL ratingDate."
   ]
  },
  {
   "cell_type": "code",
   "execution_count": null,
   "metadata": {},
   "outputs": [],
   "source": [
    "CREATE TRIGGER delNoRating2\n",
    "INSTEAD OF DELETE ON NoRating\n",
    "BEGIN\n",
    "    INSERT INTO Rating\n",
    "    VALUES (201, old.mID, 1, NULL);\n",
    "END"
   ]
  }
 ],
 "metadata": {
  "kernelspec": {
   "display_name": "Python",
   "language": "python",
   "name": "conda-env-python-py"
  },
  "language_info": {
   "codemirror_mode": {
    "name": "ipython",
    "version": 3
   },
   "file_extension": ".py",
   "mimetype": "text/x-python",
   "name": "python",
   "nbconvert_exporter": "python",
   "pygments_lexer": "ipython3",
   "version": "3.6.7"
  }
 },
 "nbformat": 4,
 "nbformat_minor": 4
}
