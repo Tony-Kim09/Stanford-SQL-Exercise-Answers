{
 "cells": [
  {
   "cell_type": "markdown",
   "metadata": {},
   "source": [
    "# Social-Network Query Exercises + Extras  \n",
    "***"
   ]
  },
  {
   "cell_type": "markdown",
   "metadata": {},
   "source": [
    "## Schema  "
   ]
  },
  {
   "cell_type": "markdown",
   "metadata": {},
   "source": [
    "### Highschooler (ID, name, grade)  \n",
    "There is a high school student with unique ID and a given first name in a certain grade.  \n",
    "### Friend (ID1, ID2)  \n",
    "The student with ID1 is friends with the student with ID2. Friendship is mutual, so if (123, 456) is in the Friend table, so is (456, 123).  \n",
    "### Likes (ID1, ID2)  \n",
    "The student with ID1 likes the student with ID2. Liking someone is not necessarily mutual, so if (123, 456) is in the likes table, there is no guarantee that (456, 123) is also present.  \n",
    "***"
   ]
  },
  {
   "cell_type": "markdown",
   "metadata": {},
   "source": [
    "#### Q1: Find the name of all students who are friends with someone named Gabriel."
   ]
  },
  {
   "cell_type": "code",
   "execution_count": null,
   "metadata": {},
   "outputs": [],
   "source": [
    "SELECT h.name\n",
    "FROM Highschooler h\n",
    "JOIN Friend f ON h.ID = f.ID1\n",
    "WHERE f.ID2 IN (SELECT h1.ID FROM Highschooler h1 WHERE h1.name = 'Gabriel');"
   ]
  },
  {
   "cell_type": "markdown",
   "metadata": {},
   "source": [
    "#### Q2: For every student who likes someone 2 or more grades younger than themselves, return that student's name and grade, and the name and grade of the student they like."
   ]
  },
  {
   "cell_type": "code",
   "execution_count": null,
   "metadata": {},
   "outputs": [],
   "source": [
    "SELECT h1.name, h1.grade, h2.name, h2.grade\n",
    "FROM Highschooler h1\n",
    "JOIN Likes l ON h1.ID = l.ID1\n",
    "JOIN Highschooler h2 ON h2.ID = l.ID2\n",
    "WHERE (h1.grade - h2.grade) >= 2;"
   ]
  },
  {
   "cell_type": "markdown",
   "metadata": {},
   "source": [
    "#### Q3: For every pair of students who both like each other, return the name and grade of both students. Include each pair only once, with the two names in alphabetical order."
   ]
  },
  {
   "cell_type": "code",
   "execution_count": null,
   "metadata": {},
   "outputs": [],
   "source": [
    "SELECT h1.name, h1.grade, h2.name, h2.grade\n",
    "FROM Likes l1\n",
    "JOIN Likes l2 ON l1.ID2 = l2.ID1 AND l2.ID2 = l1.ID1\n",
    "JOIN Highschooler h1 ON l1.ID1 = h1.ID\n",
    "JOIN Highschooler h2 ON l1.ID2 = h2.ID\n",
    "WHERE h1.name < h2.name;"
   ]
  },
  {
   "cell_type": "markdown",
   "metadata": {},
   "source": [
    "#### Q4: Find all students who do not appear in the Likes table ( as a student who likes or is liked) and return their names and grades. Sort by grade, then by name within each grade."
   ]
  },
  {
   "cell_type": "code",
   "execution_count": null,
   "metadata": {},
   "outputs": [],
   "source": [
    "SELECT h.name, h.grade\n",
    "FROM Highschooler h\n",
    "WHERE h.ID NOT IN (SELECT ID1 FROM Likes\n",
    "                    UNION\n",
    "                   SELECT ID2 FROM Likes);"
   ]
  },
  {
   "cell_type": "markdown",
   "metadata": {},
   "source": [
    "#### Q5: For every situation where student A likes student B, but we have no information about whom B likes (that is, B does not appear as an ID1 in the Likes table), return A and B's names and grades."
   ]
  },
  {
   "cell_type": "code",
   "execution_count": null,
   "metadata": {},
   "outputs": [],
   "source": [
    "SELECT h1.name, h1.grade, h2.name, h2.grade\n",
    "FROM Highschooler h1\n",
    "JOIN Likes l ON h1.ID = l.ID1\n",
    "JOIN Highschooler h2 ON h2.ID = l.ID2\n",
    "WHERE l.ID2 NOT IN (SELECT l1.ID1 FROM Likes l1);"
   ]
  },
  {
   "cell_type": "markdown",
   "metadata": {},
   "source": [
    "#### Q6: Find names and grades of students who only have friends in the same grade. Return the result sorted by grade, then by name within each grade."
   ]
  },
  {
   "cell_type": "code",
   "execution_count": null,
   "metadata": {},
   "outputs": [],
   "source": [
    "SELECT h1.name, h1.grade\n",
    "FROM Friend f1\n",
    "JOIN Highschooler h1 ON f1.ID1 = h1.ID\n",
    "JOIN Highschooler h2 ON f1.ID2 = h2.ID\n",
    "GROUP BY f1.ID1\n",
    "HAVING MAX(h1.grade <> h2.grade) = 0\n",
    "ORDER BY h1.grade, h1.name;"
   ]
  },
  {
   "cell_type": "markdown",
   "metadata": {},
   "source": [
    "#### Q7: For each student A who likes a student B where the two are not friends, find if they have a friend C in common (who can introduce them!). For all such trios, return the name and grade of A, B, and C."
   ]
  },
  {
   "cell_type": "code",
   "execution_count": null,
   "metadata": {},
   "outputs": [],
   "source": [
    "SELECT h1.name, h1.grade, h2.name, h2.grade, h3.name, h3.grade\n",
    "FROM Highschooler h1, Highschooler h2, Highschooler h3, Friend f1, Friend f2,\n",
    "        (SELECT l.ID1, l.ID2 FROM Likes l\n",
    "        EXCEPT\n",
    "        SELECT l.ID1, l.ID2\n",
    "        FROM Likes l, Friend as f\n",
    "        WHERE l.ID1 = f.ID1 AND l.ID2 = f.ID2) d\n",
    "WHERE h1.ID = f1.ID1 and f1.ID1 = d.ID1\n",
    "AND h2.ID = f2.ID1 and f2.ID1 = d.ID2 \n",
    "AND h3.ID = f2.ID2 and f2.ID2 = f1.ID2;"
   ]
  },
  {
   "cell_type": "markdown",
   "metadata": {},
   "source": [
    "#### Q8: Find the difference between the number of students in the school and the number of different first names."
   ]
  },
  {
   "cell_type": "code",
   "execution_count": null,
   "metadata": {},
   "outputs": [],
   "source": [
    "SELECT COUNT(*) - (SELECT (COUNT(DISTINCT name) FROM Highschooler)\n",
    "FROM Highschooler;"
   ]
  },
  {
   "cell_type": "markdown",
   "metadata": {},
   "source": [
    "#### Q9: Find the name and grade of all students who are liked by more than one other student."
   ]
  },
  {
   "cell_type": "code",
   "execution_count": null,
   "metadata": {},
   "outputs": [],
   "source": [
    "SELECT h.name, h.grade\n",
    "FROM Highschooler h,\n",
    "    (SELECT l.ID2 AS ID\n",
    "     FROM Likes l\n",
    "     GROUP BY l.ID2\n",
    "     HAVING COUNT(l.ID2) > 1) f\n",
    "WHERE h.ID = f.ID;"
   ]
  },
  {
   "cell_type": "markdown",
   "metadata": {},
   "source": [
    "## Extras\n",
    "***"
   ]
  },
  {
   "cell_type": "markdown",
   "metadata": {},
   "source": [
    "#### Q1: For every situation where student A likes student B, but student B likes a different student C, return the names and grades of A, B, and C."
   ]
  },
  {
   "cell_type": "code",
   "execution_count": null,
   "metadata": {},
   "outputs": [],
   "source": [
    "SELECT h1.name, h1.grade, h2.name, h2.grade, h3.name, h3.grade\n",
    "FROM Highschooler h1\n",
    "JOIN Likes l1 ON h1.ID = l1.ID1\n",
    "JOIN Highschooler h2 ON l1.ID2 = h2.ID\n",
    "JOIN Likes l2 ON h2.ID = l2.ID1\n",
    "JOIN Highschooler h3 ON h3.ID = l2.ID2\n",
    "WHERE h1.ID <> h3.ID;"
   ]
  },
  {
   "cell_type": "markdown",
   "metadata": {},
   "source": [
    "#### Q2: Find those students for whom all of their friends are in different grades from themselves. Return the students' names and grades."
   ]
  },
  {
   "cell_type": "code",
   "execution_count": null,
   "metadata": {},
   "outputs": [],
   "source": [
    "SELECT DISTINCT h1.name, h1.grade\n",
    "FROM Highschooler h1\n",
    "JOIN Friend f1 ON h1.ID = f1.ID1\n",
    "WHERE h1.grade NOT IN\n",
    "    (SELECT h2.grade\n",
    "     FROM Highschooler h2\n",
    "     JOIN Friend f2\n",
    "     WHERE h1.ID = f2.ID1\n",
    "     AND h2.ID = f2.ID2);"
   ]
  },
  {
   "cell_type": "markdown",
   "metadata": {},
   "source": [
    "#### Q3: What is the average number of friends per student?"
   ]
  },
  {
   "cell_type": "code",
   "execution_count": null,
   "metadata": {},
   "outputs": [],
   "source": [
    "SELECT AVG(new.c)\n",
    "FROM (SELECT COUNT(f.ID2) as c\n",
    "                FROM Highschooler h JOIN Friend f ON h.ID = f.ID1\n",
    "                GROUP BY f.ID1) new;"
   ]
  },
  {
   "cell_type": "markdown",
   "metadata": {},
   "source": [
    "#### Q4: Find the number of students who are either friends with Cassandra or are friends of friends of Cassandra. Do not count Cassandra, even though technically she is a friend of a friend."
   ]
  },
  {
   "cell_type": "code",
   "execution_count": null,
   "metadata": {},
   "outputs": [],
   "source": [
    "SELECT COUNT(DISTINCT f1.ID2)\n",
    "FROM friend f1\n",
    "WHERE f1.ID1 =\n",
    "        (SELECT id\n",
    "        FROM Highschooler\n",
    "        WHERE name = 'Cassandra')\n",
    "OR f1.ID1 IN\n",
    "(SELECT f2.ID2\n",
    "    FROM friend AS f2\n",
    "    WHERE f2.ID1 = \n",
    "        (SELECT ID\n",
    "        FROM Highschooler\n",
    "        WHERE name = 'Cassandra'))\n",
    "AND f1.ID2 !=\n",
    "    (SELECT ID\n",
    "     FROM Highschooler\n",
    "     WHERE name = 'Cassandra');"
   ]
  },
  {
   "cell_type": "markdown",
   "metadata": {},
   "source": [
    "#### Q5: Find the name and grade of the student(s) with the greatest number of friends."
   ]
  },
  {
   "cell_type": "code",
   "execution_count": null,
   "metadata": {},
   "outputs": [],
   "source": [
    "SELECT h.name, h.grade\n",
    "FROM Highschooler h\n",
    "JOIN Friend f1 ON h1.ID = f1.ID1\n",
    "GROUP BY h.ID\n",
    "HAVING COUNT(f1.ID2) =\n",
    "        (SELECT MAX(t.fcount)\n",
    "        FROM\n",
    "            (SELECT f2.ID1, COUNT(f2.ID2) AS fcount\n",
    "            FROM Friend f2\n",
    "            GROUP BY f2.ID1) AS t);"
   ]
  },
  {
   "cell_type": "code",
   "execution_count": null,
   "metadata": {},
   "outputs": [],
   "source": []
  }
 ],
 "metadata": {
  "kernelspec": {
   "display_name": "Python",
   "language": "python",
   "name": "conda-env-python-py"
  },
  "language_info": {
   "codemirror_mode": {
    "name": "ipython",
    "version": 3
   },
   "file_extension": ".py",
   "mimetype": "text/x-python",
   "name": "python",
   "nbconvert_exporter": "python",
   "pygments_lexer": "ipython3",
   "version": "3.6.7"
  }
 },
 "nbformat": 4,
 "nbformat_minor": 4
}
