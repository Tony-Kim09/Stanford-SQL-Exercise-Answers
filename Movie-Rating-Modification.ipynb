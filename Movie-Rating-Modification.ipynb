{
 "cells": [
  {
   "cell_type": "markdown",
   "metadata": {},
   "source": [
    "# Movie Rating Modification"
   ]
  },
  {
   "cell_type": "markdown",
   "metadata": {},
   "source": [
    "#### Q1: Add the reviewer Roger Ebert to your database, with an rID of 209."
   ]
  },
  {
   "cell_type": "code",
   "execution_count": null,
   "metadata": {},
   "outputs": [],
   "source": [
    "INSERT INTO Reviewer(rID, name) VALUES (209, 'Roger Ebert')"
   ]
  },
  {
   "cell_type": "markdown",
   "metadata": {},
   "source": [
    "#### Q2: Insert 5-star ratings by James Cameron for all movies in the database. Leave the review date as NULL."
   ]
  },
  {
   "cell_type": "code",
   "execution_count": null,
   "metadata": {},
   "outputs": [],
   "source": [
    "INSERT INTO Rating(rID, stars, mID)\n",
    "    SELECT (SELECT r.rID FROM Reviewer r WHERE r.name = 'James Cameron'),\n",
    "    5, m.mID\n",
    "    FROM Movie m;"
   ]
  },
  {
   "cell_type": "markdown",
   "metadata": {},
   "source": [
    "#### Q3: For all movies that have an average rating of 4 stars or higher, add 25 to the release year. "
   ]
  },
  {
   "cell_type": "code",
   "execution_count": null,
   "metadata": {},
   "outputs": [],
   "source": [
    "UPDATE Movie\n",
    "SET year = year + 25\n",
    "WHERE mID IN (SELECT r.mID\n",
    "                 FROM Rating r\n",
    "                 GROUP BY r.mID\n",
    "                 HAVING AVG(stars) >= 4);"
   ]
  },
  {
   "cell_type": "markdown",
   "metadata": {},
   "source": [
    "#### Q4: Remove all ratings where the movie's year is before 1970 or after 2000, and the rating is fewer than 4 stars."
   ]
  },
  {
   "cell_type": "code",
   "execution_count": null,
   "metadata": {},
   "outputs": [],
   "source": [
    "DELETE FROM Rating\n",
    "WHERE stars < 4\n",
    "AND mID IN (SELECT m.mID\n",
    "            FROM Movie m\n",
    "            WHERE m.year > 2000\n",
    "            OR m.year <1970);"
   ]
  }
 ],
 "metadata": {
  "kernelspec": {
   "display_name": "Python",
   "language": "python",
   "name": "conda-env-python-py"
  },
  "language_info": {
   "codemirror_mode": {
    "name": "ipython",
    "version": 3
   },
   "file_extension": ".py",
   "mimetype": "text/x-python",
   "name": "python",
   "nbconvert_exporter": "python",
   "pygments_lexer": "ipython3",
   "version": "3.6.7"
  }
 },
 "nbformat": 4,
 "nbformat_minor": 4
}
