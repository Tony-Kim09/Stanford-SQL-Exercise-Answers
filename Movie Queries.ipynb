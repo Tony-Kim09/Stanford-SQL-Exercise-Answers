{
 "cells": [
  {
   "cell_type": "markdown",
   "metadata": {},
   "source": [
    "# Movie Queries Answers  + Extras\n",
    "***"
   ]
  },
  {
   "cell_type": "markdown",
   "metadata": {},
   "source": [
    "## Schema  \n",
    "  \n",
    "#### Movie (mID, title, year, director)  \n",
    "#### Reviewer (rID, name)  \n",
    "#### Rating (rID, mID, stars, ratingDate)"
   ]
  },
  {
   "cell_type": "markdown",
   "metadata": {},
   "source": [
    "*** **** *** **** ************************************"
   ]
  },
  {
   "cell_type": "markdown",
   "metadata": {},
   "source": [
    "#### Q1: Find the titles of all movies directed by Steven Spielberg."
   ]
  },
  {
   "cell_type": "raw",
   "metadata": {},
   "source": [
    "SELECT title FROM Movie WHERE director = 'Steven Spielberg';"
   ]
  },
  {
   "cell_type": "markdown",
   "metadata": {},
   "source": [
    "#### Q2: Find all years that have a movie that received a rating of 4 or 5, and sort them in increasing order."
   ]
  },
  {
   "cell_type": "raw",
   "metadata": {},
   "source": [
    "SELECT DISTINCT year     \n",
    "FROM Movie m      \n",
    "INNER JOIN Rating r ON m.mID = r.mID      \n",
    "WHERE r.stars >=4       \n",
    "ORDER BY year;"
   ]
  },
  {
   "cell_type": "markdown",
   "metadata": {},
   "source": [
    "#### Q3: Find the titles of all movies that have no ratings."
   ]
  },
  {
   "cell_type": "raw",
   "metadata": {},
   "source": [
    "SELECT m.title FROM Movie m      \n",
    "LEFT JOIN Rating r ON m.mID = r.mID      \n",
    "WHERE r.stars is NULL;"
   ]
  },
  {
   "cell_type": "markdown",
   "metadata": {},
   "source": [
    "#### Q4: Some reviewers didn't provide a date with their rating. Find the names of all reviewers who have ratings with a NULL value for the date."
   ]
  },
  {
   "cell_type": "raw",
   "metadata": {},
   "source": [
    "SELECT v.name      \n",
    "FROM Reviewer v\n",
    "LEFT JOIN Rating r ON v.rID = r.rID      \n",
    "WHERE r.ratingDate IS NULL;"
   ]
  },
  {
   "cell_type": "markdown",
   "metadata": {},
   "source": [
    "#### Q5: Write a query to return the ratings data in a more readable format: reviewer name, movie title, stars, and ratingDate. Also, sort the data, first by reviewer name, then by movie title, and lastly by number of stars."
   ]
  },
  {
   "cell_type": "raw",
   "metadata": {},
   "source": [
    "SELECT v.name, m.title, r.stars, r.ratingDate      \n",
    "FROM Movie m      \n",
    "INNER JION Rating r ON m.mID = r.mID      \n",
    "INNER JOIN Reviewer v ON r.rID = v.rID      \n",
    "ORDER BY vname, mtitle, r.stars;      "
   ]
  },
  {
   "cell_type": "markdown",
   "metadata": {},
   "source": [
    "#### Q6: For all cases where the same reviewer rated the same movie twice and gave it a higher rating the second time, return the reviewer's name and the title of the movie."
   ]
  },
  {
   "cell_type": "raw",
   "metadata": {},
   "source": [
    "SELECT v.name, m.title      \n",
    "FROM (SELECT r.rID AS final_r, r1.mID AS final_m      \n",
    "      FROM Rating r1 INNER JOIN      \n",
    "      Rating r2 ON r1.rID = r2.rID      \n",
    "      WHERE r1.mID = r2.mID      \n",
    "      AND r1.stars > r2.stars      \n",
    "      AND r1.ratingDate > r2.ratingDate)       \n",
    "JOIN Movie m ON final_m = m.mID      \n",
    "JOIN Reviewer v ON final_r = v.rID;"
   ]
  },
  {
   "cell_type": "markdown",
   "metadata": {},
   "source": [
    "#### Q7: For each movie that has at least one rating, find the highest number of stars that movie received. Return the movie title and number of stars. Sort by movie title."
   ]
  },
  {
   "cell_type": "raw",
   "metadata": {},
   "source": [
    "SELECT m.title, MAX(r.stars)  \n",
    "FROM Movie m  \n",
    "LEFT JOIN Rating r ON r.mID = m.mID  \n",
    "WHERE r.stars IS NOT NULL  \n",
    "GROUP BY m.title;  "
   ]
  },
  {
   "cell_type": "markdown",
   "metadata": {},
   "source": [
    "#### Q8: For each movie, return the title and the 'rating spread', that is, the difference between highest and lowerst ratings given to that movie. Sort by rating spread from highest to lowest, then by movie title."
   ]
  },
  {
   "cell_type": "raw",
   "metadata": {},
   "source": [
    "SELECT m.title, (MAX(r.stars) - MIN(r.stars)) AS rating_spread  \n",
    "FROM Movie m  \n",
    "JOIN Rating r ON m.mID = r.mID  \n",
    "GROUP BY m.title  \n",
    "ORDER BY rating_spread DESC, m.title;"
   ]
  },
  {
   "cell_type": "markdown",
   "metadata": {},
   "source": [
    "#### Q9: Find the difference between the average rating of movies released before 1980 and the average rating of movies released after 1980. (Make sure to calculate the average rating for each movie, then the average of those averages for movies before 1980 and movies after. Don't just calculate the overall average rating before and after 1980.)"
   ]
  },
  {
   "cell_type": "raw",
   "metadata": {},
   "source": [
    "SELECT AVG(before.avg) - AVG(after.avg)  \n",
    "FROM (SELECT AVG(r1.stars) as avg  \n",
    "      FROM Movie m1  \n",
    "      JOIN Rating r1 ON m1.mID = r1.mID  \n",
    "      WHERE m1.year < 1980  \n",
    "      GROUP BY r1.mID) before,  \n",
    "  \n",
    "      (SELECT AVG(r2.stars) as avg  \n",
    "      FROM Movie m2  \n",
    "      JOIN Rating r2 ON m2.mID = r2.mID  \n",
    "      WHERE m2.year >= 1980  \n",
    "      GROUP BY r2.mID) after;"
   ]
  },
  {
   "cell_type": "markdown",
   "metadata": {},
   "source": [
    "## Extras  \n",
    "***"
   ]
  },
  {
   "cell_type": "markdown",
   "metadata": {},
   "source": [
    "#### Q1: Find the names of all reviewers who rated Gone with the Wind."
   ]
  },
  {
   "cell_type": "code",
   "execution_count": null,
   "metadata": {},
   "outputs": [],
   "source": [
    "SELECT v.name  \n",
    "FROM Reviewer v  \n",
    "WHERE v.rID IN (SELECT r.rID  \n",
    "                FROM Rating r  \n",
    "                JOIN Movie m ON r.mID = m.mID  \n",
    "                WHERE m.title = 'Gone with the Wind');"
   ]
  },
  {
   "cell_type": "markdown",
   "metadata": {},
   "source": [
    "#### Q2: For any rating where the reviewer is the same as the director of the movie, return the reviewer name, movie title, and number of stars."
   ]
  },
  {
   "cell_type": "code",
   "execution_count": null,
   "metadata": {},
   "outputs": [],
   "source": [
    "SELECT v.name, m.title, r.stars  \n",
    "FROM Movie m  \n",
    "JOIN Rating r ON m.mID = r.mID  \n",
    "JOIN Reviewer v ON r.rID = v.rID  \n",
    "WHERE v.name = m.director;  "
   ]
  },
  {
   "cell_type": "markdown",
   "metadata": {},
   "source": [
    "#### Q3: Return all reviewer names and movie names together in a single list, alphabetized. "
   ]
  },
  {
   "cell_type": "code",
   "execution_count": null,
   "metadata": {},
   "outputs": [],
   "source": [
    "SELECT name  \n",
    "FROM Reviewer v  \n",
    "UNION  \n",
    "SELECT title  \n",
    "FROM Movie m  \n",
    "ORDER BY v.name;"
   ]
  },
  {
   "cell_type": "markdown",
   "metadata": {},
   "source": [
    "#### Q4: Find the titles of all movies not reviewed by Chris Jackson."
   ]
  },
  {
   "cell_type": "code",
   "execution_count": null,
   "metadata": {},
   "outputs": [],
   "source": [
    "SELECT m.title  \n",
    "FROM Movie m  \n",
    "WHERE m.mID NOT IN (SELECT r.mID  \n",
    "                    FROM Rating r INNER JOIN Reviewer v ON r.rID = v.rID  \n",
    "                    WHERE v.name = 'Chris Jackson');  "
   ]
  },
  {
   "cell_type": "markdown",
   "metadata": {},
   "source": [
    "#### Q5: For all pairs of reviewers such that both reviewers gave a rating to the same movie, return the names of both reviewers. Eliminate duplicates, don't pair reviewers with themselves, and include each pair only once. For each pair, return the names in the pair in alphabetical order. "
   ]
  },
  {
   "cell_type": "code",
   "execution_count": null,
   "metadata": {},
   "outputs": [],
   "source": [
    "SELECT DISTINCT r1.name, r2.name  \n",
    "FROM (Reviewer NATURAL JOIN Rating) r1, (Reviewer NATURAL JOIN Rating) r2  \n",
    "WHERE r1.mID = r2.mID AND r1.name < r2.name  \n",
    "ORDER BY r1.name, r2.name;"
   ]
  },
  {
   "cell_type": "markdown",
   "metadata": {},
   "source": [
    "#### Q6: For each rating that is the lowest (fewest stars) currently in the database, return the reviewer name, movie title, and number of stars."
   ]
  },
  {
   "cell_type": "code",
   "execution_count": null,
   "metadata": {},
   "outputs": [],
   "source": [
    "SELECT v.name, m.title, r.stars  \n",
    "FROM Movie m  \n",
    "JOIN Rating r ON m.mID = r.mID  \n",
    "JOIN Reviewer v ON r.rID = v.rID  \n",
    "WHERE r.stars <= (SELECT MIN(stars)  \n",
    "                  FROM Rating);"
   ]
  },
  {
   "cell_type": "markdown",
   "metadata": {},
   "source": [
    "#### Q7: List movie titles and average ratings, from highest-rated to lowest-rated. If two or more movies have the same average rating, list them in alphabetical order. "
   ]
  },
  {
   "cell_type": "code",
   "execution_count": null,
   "metadata": {},
   "outputs": [],
   "source": [
    "SELECT m.title, AVG(r.stars) AS average_rating\n",
    "FROM Movie m\n",
    "JOIN Rating r ON m.mID = r.mID\n",
    "GROUP BY m.title\n",
    "ORDER BY average_rating DESC;"
   ]
  },
  {
   "cell_type": "markdown",
   "metadata": {},
   "source": [
    "#### Q8: Find the names of all reviewers who have contributed three or more ratings. "
   ]
  },
  {
   "cell_type": "code",
   "execution_count": null,
   "metadata": {},
   "outputs": [],
   "source": [
    "SELECT v.name\n",
    "FROM Reviewer v\n",
    "JOIN Rating r ON v.rID = r.rID\n",
    "GROUP BY v.name\n",
    "HAVING COUNT(v.name) >=3;"
   ]
  },
  {
   "cell_type": "markdown",
   "metadata": {},
   "source": [
    "#### Q9: Some directors directed more than one movie. For all such directors, return the titles of all movies directed by them, along with director name. Sort by director name, then movie title. "
   ]
  },
  {
   "cell_type": "code",
   "execution_count": null,
   "metadata": {},
   "outputs": [],
   "source": [
    "SELECT m.title, m.director\n",
    "FROM Movie m\n",
    "WHERE m.director IN (SELECT m1.director\n",
    "                     FROM Movie m1                     \n",
    "                     GROUP BY m1.director\n",
    "                     HAVING COUNT(m1.director) > 1)\n",
    "ORDER BY m.director, m.title;"
   ]
  },
  {
   "cell_type": "markdown",
   "metadata": {},
   "source": [
    "#### Q10: Find the movie(s) with the highest average rating. Return the movie title(s) and average rating. "
   ]
  },
  {
   "cell_type": "code",
   "execution_count": null,
   "metadata": {},
   "outputs": [],
   "source": [
    "SELECT m.title, AVG(r.stars) AS avg\n",
    "FROM Movie m\n",
    "JOIN Rating r ON m.mID = r.mID\n",
    "GROUP BY r.mID\n",
    "HAVING AVG(r.stars) = (SELECT AVG(r1.stars)\n",
    "                       FROM Movie m1 JOIN Rating r1 ON m1.mID = r1.mID\n",
    "                       GROUP BY r1.mID \n",
    "                       ORDER BY AVG(r1.stars) DESC\n",
    "                       LIMIT 1);"
   ]
  },
  {
   "cell_type": "markdown",
   "metadata": {},
   "source": [
    "#### Q11: Find the movie(s) with the lowest average rating. Return the movie title(s) and average rating."
   ]
  },
  {
   "cell_type": "code",
   "execution_count": null,
   "metadata": {},
   "outputs": [],
   "source": [
    "SELECT m.title, AVG(r.stars) AS avg\n",
    "FROM Movie m\n",
    "JOIN Rating r ON m.mID = r.mID\n",
    "GROUP BY r.mID\n",
    "HAVING AVG(r.stars) = (SELECT AVG(r1.stars)\n",
    "                       FROM Movie m1 JOIN Rating r1 ON m1.mID = r1.mID\n",
    "                       GROUP BY r1.mID\n",
    "                       ORDER BY AVG(r1.stars)\n",
    "                       LIMIT 1);"
   ]
  },
  {
   "cell_type": "markdown",
   "metadata": {},
   "source": [
    "#### Q12: For each director, return the director's name together with the title(s) of the movie(s) they directed that received the highest rating among all their movies, and the value of that rating. Ignore movies whose director is NULL."
   ]
  },
  {
   "cell_type": "code",
   "execution_count": null,
   "metadata": {},
   "outputs": [],
   "source": [
    "SELECT m.director, m.title, MAX(r.stars)\n",
    "FROM Movie m\n",
    "JOIN Rating r ON m.mID = r.mID\n",
    "WHERE m.director IS NOT NULL\n",
    "GROUP BY m.director;"
   ]
  },
  {
   "cell_type": "code",
   "execution_count": null,
   "metadata": {},
   "outputs": [],
   "source": []
  }
 ],
 "metadata": {
  "kernelspec": {
   "display_name": "Python",
   "language": "python",
   "name": "conda-env-python-py"
  },
  "language_info": {
   "codemirror_mode": {
    "name": "ipython",
    "version": 3
   },
   "file_extension": ".py",
   "mimetype": "text/x-python",
   "name": "python",
   "nbconvert_exporter": "python",
   "pygments_lexer": "ipython3",
   "version": "3.6.7"
  }
 },
 "nbformat": 4,
 "nbformat_minor": 4
}
